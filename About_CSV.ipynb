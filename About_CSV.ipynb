{
  "nbformat": 4,
  "nbformat_minor": 0,
  "metadata": {
    "colab": {
      "provenance": []
    },
    "kernelspec": {
      "name": "python3",
      "display_name": "Python 3"
    },
    "language_info": {
      "name": "python"
    }
  },
  "cells": [
    {
      "cell_type": "code",
      "execution_count": 1,
      "metadata": {
        "id": "YYA5VZ7ULKjc"
      },
      "outputs": [],
      "source": [
        "import pandas as pd"
      ]
    },
    {
      "cell_type": "markdown",
      "source": [
        "**Opening CSV File**"
      ],
      "metadata": {
        "id": "8oKAyzSe-DHS"
      }
    },
    {
      "cell_type": "code",
      "source": [
        "data = pd.read_csv('/content/aug_train.csv')"
      ],
      "metadata": {
        "id": "aUhXu1jaLp3y"
      },
      "execution_count": 3,
      "outputs": []
    },
    {
      "cell_type": "code",
      "source": [
        "data"
      ],
      "metadata": {
        "id": "qVUW_wa5g1a4"
      },
      "execution_count": null,
      "outputs": []
    },
    {
      "cell_type": "markdown",
      "source": [
        "**Opening a CSV file from an URL**"
      ],
      "metadata": {
        "id": "o6CcCZyl-MLh"
      }
    },
    {
      "cell_type": "code",
      "source": [
        "import requests\n",
        "from io import StringIO\n",
        "\n",
        "url = \"https://raw.githubusercontent.com/cs109/2014_data/master/countries.csv\"\n",
        "headers = {\"User-Agent\":\"Mozilla/5.0 (Macintosh; Intel Mac OS X 10.14; rv:66.0) Gecko/20100101 Firefox/66.0\"}\n",
        "req = requests.get(url, headers=headers)\n",
        "data = StringIO(req.text)\n",
        "\n",
        "pd.read_csv(data)"
      ],
      "metadata": {
        "id": "YwA5GNRmg2ET"
      },
      "execution_count": null,
      "outputs": []
    },
    {
      "cell_type": "markdown",
      "source": [
        "**Step Parameter**"
      ],
      "metadata": {
        "id": "3x4rh-YFAi9J"
      }
    },
    {
      "cell_type": "code",
      "source": [
        "#pd.read_csv('' , sep = '\\t')"
      ],
      "metadata": {
        "id": "k-0Wt7yN_-tT"
      },
      "execution_count": null,
      "outputs": []
    },
    {
      "cell_type": "markdown",
      "source": [
        "**Index col parameter**"
      ],
      "metadata": {
        "id": "8k6G-0HLBsT5"
      }
    },
    {
      "cell_type": "code",
      "source": [
        "pd.read_csv('/content/aug_train.csv', index_col = 'enrollee_id')\n",
        "#it drop index col"
      ],
      "metadata": {
        "id": "WNECgwRCADmB"
      },
      "execution_count": null,
      "outputs": []
    },
    {
      "cell_type": "markdown",
      "source": [
        "**Header parameter**"
      ],
      "metadata": {
        "id": "QtLDxIhdCXJW"
      }
    },
    {
      "cell_type": "code",
      "source": [
        "pd.read_csv('/content/aug_train.csv', header= 0)"
      ],
      "metadata": {
        "id": "hHFOb0vQB4tz"
      },
      "execution_count": null,
      "outputs": []
    },
    {
      "cell_type": "markdown",
      "source": [
        "**Use Cols Parameter**"
      ],
      "metadata": {
        "id": "OBmpCbDhOalc"
      }
    },
    {
      "cell_type": "code",
      "source": [
        "pd.read_csv('/content/aug_train.csv', usecols= ['enrollee_id', 'gender', 'education_level'])"
      ],
      "metadata": {
        "id": "GGuQh6d0CvuM"
      },
      "execution_count": null,
      "outputs": []
    },
    {
      "cell_type": "markdown",
      "source": [
        "**Squeeze parameter**"
      ],
      "metadata": {
        "id": "D_zGYWUgO5Bl"
      }
    },
    {
      "cell_type": "code",
      "source": [
        "pd.read_csv('/content/aug_train.csv', usecols=['gender'], squeeze=True)"
      ],
      "metadata": {
        "id": "K67cUZJ-OlvA"
      },
      "execution_count": null,
      "outputs": []
    },
    {
      "cell_type": "markdown",
      "source": [
        "**Skip rows**\n"
      ],
      "metadata": {
        "id": "Y3S9cICuPRak"
      }
    },
    {
      "cell_type": "code",
      "source": [
        "pd.read_csv('/content/aug_train.csv', skiprows =(0,5))"
      ],
      "metadata": {
        "id": "lOABzffuPOe2"
      },
      "execution_count": null,
      "outputs": []
    },
    {
      "cell_type": "markdown",
      "source": [
        "**Nrows parameter**"
      ],
      "metadata": {
        "id": "m0ZUOVcoQHj8"
      }
    },
    {
      "cell_type": "code",
      "source": [
        "pd.read_csv('/content/aug_train.csv', nrows= 5)"
      ],
      "metadata": {
        "id": "h7XhL32lPmtu"
      },
      "execution_count": null,
      "outputs": []
    },
    {
      "cell_type": "markdown",
      "source": [
        "**Encoding Parameter**"
      ],
      "metadata": {
        "id": "D8L81Lo5QbaS"
      }
    },
    {
      "cell_type": "code",
      "source": [
        "pd.read_csv('zomato.csv', encoding='latin-1')"
      ],
      "metadata": {
        "id": "KtwxpDEJQRdY"
      },
      "execution_count": null,
      "outputs": []
    },
    {
      "cell_type": "markdown",
      "source": [
        "**Skip Bad Lines**"
      ],
      "metadata": {
        "id": "K_XjHruORi8j"
      }
    },
    {
      "cell_type": "code",
      "source": [
        "pd.read_csv('/content/aug_train.csv', sep = ',' ,encoding = \"latin-1\", error_bad_lines=False)"
      ],
      "metadata": {
        "id": "BSVfomp7RF3D"
      },
      "execution_count": null,
      "outputs": []
    },
    {
      "cell_type": "markdown",
      "source": [
        "**dtypes parameter**"
      ],
      "metadata": {
        "id": "8a198tufSO6-"
      }
    },
    {
      "cell_type": "code",
      "source": [
        "pd.read_csv('/content/aug_train.csv', dtype={'target':int})"
      ],
      "metadata": {
        "id": "xCVIWrhzR5fT"
      },
      "execution_count": null,
      "outputs": []
    },
    {
      "cell_type": "markdown",
      "source": [
        "**Handing Dates**"
      ],
      "metadata": {
        "id": "g0pxFH8GS3ZE"
      }
    },
    {
      "cell_type": "code",
      "source": [
        "#pd.read_csv('url', parse_dates =['colName'])\n",
        "#change in date format"
      ],
      "metadata": {
        "id": "SisHlaORSc0p"
      },
      "execution_count": 35,
      "outputs": []
    },
    {
      "cell_type": "markdown",
      "source": [
        "**Convertors**"
      ],
      "metadata": {
        "id": "OE3addfUT-r7"
      }
    },
    {
      "cell_type": "code",
      "source": [
        "def rename(name):\n",
        "  if name == \"Royal Challengers Bangalore\":\n",
        "      return \"RCB\"\n",
        "  if name == \"Chennai Super Kings\":\n",
        "      return \"CSK\"\n",
        "  if name == \"Kolkata Knight Riders\":\n",
        "      return \"KKR\"\n",
        "  if name == \"Delhi Daredevils\":\n",
        "      return \"DC\"\n",
        "  if name == \"Delhi Capitals\":\n",
        "      return \"DC\"\n",
        "  if name == \"Mumbai Indians\":\n",
        "      return \"MI\"\n",
        "  if name == \"Rajasthan Royals\":\n",
        "      return \"RR\"\n",
        "  if name == \"Deccan Chargers\":\n",
        "      return \"SRH\"\n",
        "  if name == \"Sunrisers Hyderabad\":\n",
        "      return \"SRH\"\n",
        "  if name == \"Kings XI Punjab\":\n",
        "      return \"KXIP\"\n",
        "  else:\n",
        "      return name "
      ],
      "metadata": {
        "id": "S0wc79byVNDH"
      },
      "execution_count": 44,
      "outputs": []
    },
    {
      "cell_type": "code",
      "source": [
        "rename(\"Mumbai Indians\")"
      ],
      "metadata": {
        "colab": {
          "base_uri": "https://localhost:8080/",
          "height": 35
        },
        "id": "zBK4XbjuWvat",
        "outputId": "e961f36a-a9f9-49d4-c1c8-64b447e49282"
      },
      "execution_count": 45,
      "outputs": [
        {
          "output_type": "execute_result",
          "data": {
            "text/plain": [
              "'MI'"
            ],
            "application/vnd.google.colaboratory.intrinsic+json": {
              "type": "string"
            }
          },
          "metadata": {},
          "execution_count": 45
        }
      ]
    },
    {
      "cell_type": "code",
      "source": [
        "n"
      ],
      "metadata": {
        "colab": {
          "base_uri": "https://localhost:8080/",
          "height": 834
        },
        "id": "jKYojba6TrMt",
        "outputId": "71f7adea-8f81-430d-e463-3dfb7bc19dc1"
      },
      "execution_count": 49,
      "outputs": [
        {
          "output_type": "execute_result",
          "data": {
            "text/plain": [
              "          id        city        date player_of_match  \\\n",
              "0     335982   Bangalore  2008-04-18     BB McCullum   \n",
              "1     335983  Chandigarh  2008-04-19      MEK Hussey   \n",
              "2     335984       Delhi  2008-04-19     MF Maharoof   \n",
              "3     335985      Mumbai  2008-04-20      MV Boucher   \n",
              "4     335986     Kolkata  2008-04-20       DJ Hussey   \n",
              "..       ...         ...         ...             ...   \n",
              "811  1216547       Dubai  2020-09-28  AB de Villiers   \n",
              "812  1237177       Dubai  2020-11-05       JJ Bumrah   \n",
              "813  1237178   Abu Dhabi  2020-11-06   KS Williamson   \n",
              "814  1237180   Abu Dhabi  2020-11-08      MP Stoinis   \n",
              "815  1237181       Dubai  2020-11-10        TA Boult   \n",
              "\n",
              "                                          venue  neutral_venue team1 team2  \\\n",
              "0                         M Chinnaswamy Stadium              0   RCB   KKR   \n",
              "1    Punjab Cricket Association Stadium, Mohali              0  KXIP   CSK   \n",
              "2                              Feroz Shah Kotla              0    DC    RR   \n",
              "3                              Wankhede Stadium              0    MI   RCB   \n",
              "4                                  Eden Gardens              0   KKR   SRH   \n",
              "..                                          ...            ...   ...   ...   \n",
              "811         Dubai International Cricket Stadium              0   RCB    MI   \n",
              "812         Dubai International Cricket Stadium              0    MI    DC   \n",
              "813                        Sheikh Zayed Stadium              0   RCB   SRH   \n",
              "814                        Sheikh Zayed Stadium              0    DC   SRH   \n",
              "815         Dubai International Cricket Stadium              0    DC    MI   \n",
              "\n",
              "    toss_winner toss_decision winner   result  result_margin eliminator  \\\n",
              "0           RCB         field    KKR     runs          140.0          N   \n",
              "1           CSK           bat    CSK     runs           33.0          N   \n",
              "2            RR           bat     DC  wickets            9.0          N   \n",
              "3            MI           bat    RCB  wickets            5.0          N   \n",
              "4           SRH           bat    KKR  wickets            5.0          N   \n",
              "..          ...           ...    ...      ...            ...        ...   \n",
              "811          MI         field    RCB      tie            NaN          Y   \n",
              "812          DC         field     MI     runs           57.0          N   \n",
              "813         SRH         field    SRH  wickets            6.0          N   \n",
              "814          DC           bat     DC     runs           17.0          N   \n",
              "815          DC           bat     MI  wickets            5.0          N   \n",
              "\n",
              "    method      umpire1         umpire2  \n",
              "0      NaN    Asad Rauf     RE Koertzen  \n",
              "1      NaN    MR Benson      SL Shastri  \n",
              "2      NaN    Aleem Dar  GA Pratapkumar  \n",
              "3      NaN     SJ Davis       DJ Harper  \n",
              "4      NaN    BF Bowden     K Hariharan  \n",
              "..     ...          ...             ...  \n",
              "811    NaN  Nitin Menon      PR Reiffel  \n",
              "812    NaN  CB Gaffaney     Nitin Menon  \n",
              "813    NaN   PR Reiffel          S Ravi  \n",
              "814    NaN   PR Reiffel          S Ravi  \n",
              "815    NaN  CB Gaffaney     Nitin Menon  \n",
              "\n",
              "[816 rows x 17 columns]"
            ],
            "text/html": [
              "\n",
              "  <div id=\"df-d42f721c-0fc0-44b7-b7c6-a3b6fd833519\">\n",
              "    <div class=\"colab-df-container\">\n",
              "      <div>\n",
              "<style scoped>\n",
              "    .dataframe tbody tr th:only-of-type {\n",
              "        vertical-align: middle;\n",
              "    }\n",
              "\n",
              "    .dataframe tbody tr th {\n",
              "        vertical-align: top;\n",
              "    }\n",
              "\n",
              "    .dataframe thead th {\n",
              "        text-align: right;\n",
              "    }\n",
              "</style>\n",
              "<table border=\"1\" class=\"dataframe\">\n",
              "  <thead>\n",
              "    <tr style=\"text-align: right;\">\n",
              "      <th></th>\n",
              "      <th>id</th>\n",
              "      <th>city</th>\n",
              "      <th>date</th>\n",
              "      <th>player_of_match</th>\n",
              "      <th>venue</th>\n",
              "      <th>neutral_venue</th>\n",
              "      <th>team1</th>\n",
              "      <th>team2</th>\n",
              "      <th>toss_winner</th>\n",
              "      <th>toss_decision</th>\n",
              "      <th>winner</th>\n",
              "      <th>result</th>\n",
              "      <th>result_margin</th>\n",
              "      <th>eliminator</th>\n",
              "      <th>method</th>\n",
              "      <th>umpire1</th>\n",
              "      <th>umpire2</th>\n",
              "    </tr>\n",
              "  </thead>\n",
              "  <tbody>\n",
              "    <tr>\n",
              "      <th>0</th>\n",
              "      <td>335982</td>\n",
              "      <td>Bangalore</td>\n",
              "      <td>2008-04-18</td>\n",
              "      <td>BB McCullum</td>\n",
              "      <td>M Chinnaswamy Stadium</td>\n",
              "      <td>0</td>\n",
              "      <td>RCB</td>\n",
              "      <td>KKR</td>\n",
              "      <td>RCB</td>\n",
              "      <td>field</td>\n",
              "      <td>KKR</td>\n",
              "      <td>runs</td>\n",
              "      <td>140.0</td>\n",
              "      <td>N</td>\n",
              "      <td>NaN</td>\n",
              "      <td>Asad Rauf</td>\n",
              "      <td>RE Koertzen</td>\n",
              "    </tr>\n",
              "    <tr>\n",
              "      <th>1</th>\n",
              "      <td>335983</td>\n",
              "      <td>Chandigarh</td>\n",
              "      <td>2008-04-19</td>\n",
              "      <td>MEK Hussey</td>\n",
              "      <td>Punjab Cricket Association Stadium, Mohali</td>\n",
              "      <td>0</td>\n",
              "      <td>KXIP</td>\n",
              "      <td>CSK</td>\n",
              "      <td>CSK</td>\n",
              "      <td>bat</td>\n",
              "      <td>CSK</td>\n",
              "      <td>runs</td>\n",
              "      <td>33.0</td>\n",
              "      <td>N</td>\n",
              "      <td>NaN</td>\n",
              "      <td>MR Benson</td>\n",
              "      <td>SL Shastri</td>\n",
              "    </tr>\n",
              "    <tr>\n",
              "      <th>2</th>\n",
              "      <td>335984</td>\n",
              "      <td>Delhi</td>\n",
              "      <td>2008-04-19</td>\n",
              "      <td>MF Maharoof</td>\n",
              "      <td>Feroz Shah Kotla</td>\n",
              "      <td>0</td>\n",
              "      <td>DC</td>\n",
              "      <td>RR</td>\n",
              "      <td>RR</td>\n",
              "      <td>bat</td>\n",
              "      <td>DC</td>\n",
              "      <td>wickets</td>\n",
              "      <td>9.0</td>\n",
              "      <td>N</td>\n",
              "      <td>NaN</td>\n",
              "      <td>Aleem Dar</td>\n",
              "      <td>GA Pratapkumar</td>\n",
              "    </tr>\n",
              "    <tr>\n",
              "      <th>3</th>\n",
              "      <td>335985</td>\n",
              "      <td>Mumbai</td>\n",
              "      <td>2008-04-20</td>\n",
              "      <td>MV Boucher</td>\n",
              "      <td>Wankhede Stadium</td>\n",
              "      <td>0</td>\n",
              "      <td>MI</td>\n",
              "      <td>RCB</td>\n",
              "      <td>MI</td>\n",
              "      <td>bat</td>\n",
              "      <td>RCB</td>\n",
              "      <td>wickets</td>\n",
              "      <td>5.0</td>\n",
              "      <td>N</td>\n",
              "      <td>NaN</td>\n",
              "      <td>SJ Davis</td>\n",
              "      <td>DJ Harper</td>\n",
              "    </tr>\n",
              "    <tr>\n",
              "      <th>4</th>\n",
              "      <td>335986</td>\n",
              "      <td>Kolkata</td>\n",
              "      <td>2008-04-20</td>\n",
              "      <td>DJ Hussey</td>\n",
              "      <td>Eden Gardens</td>\n",
              "      <td>0</td>\n",
              "      <td>KKR</td>\n",
              "      <td>SRH</td>\n",
              "      <td>SRH</td>\n",
              "      <td>bat</td>\n",
              "      <td>KKR</td>\n",
              "      <td>wickets</td>\n",
              "      <td>5.0</td>\n",
              "      <td>N</td>\n",
              "      <td>NaN</td>\n",
              "      <td>BF Bowden</td>\n",
              "      <td>K Hariharan</td>\n",
              "    </tr>\n",
              "    <tr>\n",
              "      <th>...</th>\n",
              "      <td>...</td>\n",
              "      <td>...</td>\n",
              "      <td>...</td>\n",
              "      <td>...</td>\n",
              "      <td>...</td>\n",
              "      <td>...</td>\n",
              "      <td>...</td>\n",
              "      <td>...</td>\n",
              "      <td>...</td>\n",
              "      <td>...</td>\n",
              "      <td>...</td>\n",
              "      <td>...</td>\n",
              "      <td>...</td>\n",
              "      <td>...</td>\n",
              "      <td>...</td>\n",
              "      <td>...</td>\n",
              "      <td>...</td>\n",
              "    </tr>\n",
              "    <tr>\n",
              "      <th>811</th>\n",
              "      <td>1216547</td>\n",
              "      <td>Dubai</td>\n",
              "      <td>2020-09-28</td>\n",
              "      <td>AB de Villiers</td>\n",
              "      <td>Dubai International Cricket Stadium</td>\n",
              "      <td>0</td>\n",
              "      <td>RCB</td>\n",
              "      <td>MI</td>\n",
              "      <td>MI</td>\n",
              "      <td>field</td>\n",
              "      <td>RCB</td>\n",
              "      <td>tie</td>\n",
              "      <td>NaN</td>\n",
              "      <td>Y</td>\n",
              "      <td>NaN</td>\n",
              "      <td>Nitin Menon</td>\n",
              "      <td>PR Reiffel</td>\n",
              "    </tr>\n",
              "    <tr>\n",
              "      <th>812</th>\n",
              "      <td>1237177</td>\n",
              "      <td>Dubai</td>\n",
              "      <td>2020-11-05</td>\n",
              "      <td>JJ Bumrah</td>\n",
              "      <td>Dubai International Cricket Stadium</td>\n",
              "      <td>0</td>\n",
              "      <td>MI</td>\n",
              "      <td>DC</td>\n",
              "      <td>DC</td>\n",
              "      <td>field</td>\n",
              "      <td>MI</td>\n",
              "      <td>runs</td>\n",
              "      <td>57.0</td>\n",
              "      <td>N</td>\n",
              "      <td>NaN</td>\n",
              "      <td>CB Gaffaney</td>\n",
              "      <td>Nitin Menon</td>\n",
              "    </tr>\n",
              "    <tr>\n",
              "      <th>813</th>\n",
              "      <td>1237178</td>\n",
              "      <td>Abu Dhabi</td>\n",
              "      <td>2020-11-06</td>\n",
              "      <td>KS Williamson</td>\n",
              "      <td>Sheikh Zayed Stadium</td>\n",
              "      <td>0</td>\n",
              "      <td>RCB</td>\n",
              "      <td>SRH</td>\n",
              "      <td>SRH</td>\n",
              "      <td>field</td>\n",
              "      <td>SRH</td>\n",
              "      <td>wickets</td>\n",
              "      <td>6.0</td>\n",
              "      <td>N</td>\n",
              "      <td>NaN</td>\n",
              "      <td>PR Reiffel</td>\n",
              "      <td>S Ravi</td>\n",
              "    </tr>\n",
              "    <tr>\n",
              "      <th>814</th>\n",
              "      <td>1237180</td>\n",
              "      <td>Abu Dhabi</td>\n",
              "      <td>2020-11-08</td>\n",
              "      <td>MP Stoinis</td>\n",
              "      <td>Sheikh Zayed Stadium</td>\n",
              "      <td>0</td>\n",
              "      <td>DC</td>\n",
              "      <td>SRH</td>\n",
              "      <td>DC</td>\n",
              "      <td>bat</td>\n",
              "      <td>DC</td>\n",
              "      <td>runs</td>\n",
              "      <td>17.0</td>\n",
              "      <td>N</td>\n",
              "      <td>NaN</td>\n",
              "      <td>PR Reiffel</td>\n",
              "      <td>S Ravi</td>\n",
              "    </tr>\n",
              "    <tr>\n",
              "      <th>815</th>\n",
              "      <td>1237181</td>\n",
              "      <td>Dubai</td>\n",
              "      <td>2020-11-10</td>\n",
              "      <td>TA Boult</td>\n",
              "      <td>Dubai International Cricket Stadium</td>\n",
              "      <td>0</td>\n",
              "      <td>DC</td>\n",
              "      <td>MI</td>\n",
              "      <td>DC</td>\n",
              "      <td>bat</td>\n",
              "      <td>MI</td>\n",
              "      <td>wickets</td>\n",
              "      <td>5.0</td>\n",
              "      <td>N</td>\n",
              "      <td>NaN</td>\n",
              "      <td>CB Gaffaney</td>\n",
              "      <td>Nitin Menon</td>\n",
              "    </tr>\n",
              "  </tbody>\n",
              "</table>\n",
              "<p>816 rows × 17 columns</p>\n",
              "</div>\n",
              "      <button class=\"colab-df-convert\" onclick=\"convertToInteractive('df-d42f721c-0fc0-44b7-b7c6-a3b6fd833519')\"\n",
              "              title=\"Convert this dataframe to an interactive table.\"\n",
              "              style=\"display:none;\">\n",
              "        \n",
              "  <svg xmlns=\"http://www.w3.org/2000/svg\" height=\"24px\"viewBox=\"0 0 24 24\"\n",
              "       width=\"24px\">\n",
              "    <path d=\"M0 0h24v24H0V0z\" fill=\"none\"/>\n",
              "    <path d=\"M18.56 5.44l.94 2.06.94-2.06 2.06-.94-2.06-.94-.94-2.06-.94 2.06-2.06.94zm-11 1L8.5 8.5l.94-2.06 2.06-.94-2.06-.94L8.5 2.5l-.94 2.06-2.06.94zm10 10l.94 2.06.94-2.06 2.06-.94-2.06-.94-.94-2.06-.94 2.06-2.06.94z\"/><path d=\"M17.41 7.96l-1.37-1.37c-.4-.4-.92-.59-1.43-.59-.52 0-1.04.2-1.43.59L10.3 9.45l-7.72 7.72c-.78.78-.78 2.05 0 2.83L4 21.41c.39.39.9.59 1.41.59.51 0 1.02-.2 1.41-.59l7.78-7.78 2.81-2.81c.8-.78.8-2.07 0-2.86zM5.41 20L4 18.59l7.72-7.72 1.47 1.35L5.41 20z\"/>\n",
              "  </svg>\n",
              "      </button>\n",
              "      \n",
              "  <style>\n",
              "    .colab-df-container {\n",
              "      display:flex;\n",
              "      flex-wrap:wrap;\n",
              "      gap: 12px;\n",
              "    }\n",
              "\n",
              "    .colab-df-convert {\n",
              "      background-color: #E8F0FE;\n",
              "      border: none;\n",
              "      border-radius: 50%;\n",
              "      cursor: pointer;\n",
              "      display: none;\n",
              "      fill: #1967D2;\n",
              "      height: 32px;\n",
              "      padding: 0 0 0 0;\n",
              "      width: 32px;\n",
              "    }\n",
              "\n",
              "    .colab-df-convert:hover {\n",
              "      background-color: #E2EBFA;\n",
              "      box-shadow: 0px 1px 2px rgba(60, 64, 67, 0.3), 0px 1px 3px 1px rgba(60, 64, 67, 0.15);\n",
              "      fill: #174EA6;\n",
              "    }\n",
              "\n",
              "    [theme=dark] .colab-df-convert {\n",
              "      background-color: #3B4455;\n",
              "      fill: #D2E3FC;\n",
              "    }\n",
              "\n",
              "    [theme=dark] .colab-df-convert:hover {\n",
              "      background-color: #434B5C;\n",
              "      box-shadow: 0px 1px 3px 1px rgba(0, 0, 0, 0.15);\n",
              "      filter: drop-shadow(0px 1px 2px rgba(0, 0, 0, 0.3));\n",
              "      fill: #FFFFFF;\n",
              "    }\n",
              "  </style>\n",
              "\n",
              "      <script>\n",
              "        const buttonEl =\n",
              "          document.querySelector('#df-d42f721c-0fc0-44b7-b7c6-a3b6fd833519 button.colab-df-convert');\n",
              "        buttonEl.style.display =\n",
              "          google.colab.kernel.accessAllowed ? 'block' : 'none';\n",
              "\n",
              "        async function convertToInteractive(key) {\n",
              "          const element = document.querySelector('#df-d42f721c-0fc0-44b7-b7c6-a3b6fd833519');\n",
              "          const dataTable =\n",
              "            await google.colab.kernel.invokeFunction('convertToInteractive',\n",
              "                                                     [key], {});\n",
              "          if (!dataTable) return;\n",
              "\n",
              "          const docLinkHtml = 'Like what you see? Visit the ' +\n",
              "            '<a target=\"_blank\" href=https://colab.research.google.com/notebooks/data_table.ipynb>data table notebook</a>'\n",
              "            + ' to learn more about interactive tables.';\n",
              "          element.innerHTML = '';\n",
              "          dataTable['output_type'] = 'display_data';\n",
              "          await google.colab.output.renderOutput(dataTable, element);\n",
              "          const docLink = document.createElement('div');\n",
              "          docLink.innerHTML = docLinkHtml;\n",
              "          element.appendChild(docLink);\n",
              "        }\n",
              "      </script>\n",
              "    </div>\n",
              "  </div>\n",
              "  "
            ]
          },
          "metadata": {},
          "execution_count": 49
        }
      ]
    },
    {
      "cell_type": "code",
      "source": [],
      "metadata": {
        "id": "PSjIkrYmUof2"
      },
      "execution_count": 41,
      "outputs": []
    },
    {
      "cell_type": "code",
      "source": [],
      "metadata": {
        "id": "OaVIb2X2XV9H"
      },
      "execution_count": null,
      "outputs": []
    }
  ]
}